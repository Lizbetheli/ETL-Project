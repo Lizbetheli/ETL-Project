{
 "cells": [
  {
   "cell_type": "markdown",
   "metadata": {},
   "source": [
    "# High School Dropout Rates \n",
    "trends of dropout rates by race\n",
    "differences by gender\n",
    "differences by immigration status\n",
    "1. https://www.childtrends.org/indicators/high-school-dropout-rates  \n",
    "from this site it links:\n",
    "2. https://nces.ed.gov/ccd/tables/ACGR_RE_and_characteristics_2015-16.asp \n",
    "which is an html table format, you can also download in excel\n",
    "table is Public high school 4-year adjusted cohort graduation rate (ACGR), by race/ethnicity and selected demographic characteristics for the United States, the 50 states, and the District of Columbia: School year 2015–16"
   ]
  },
  {
   "cell_type": "markdown",
   "metadata": {},
   "source": [
    "# U.S. STUDENTS PERFORMANCE ON THE MOST RECENT ASSESSMENTS\n",
    "an interactive table differentiating scores on public and private schools across different assesments\n",
    "3. https://www.nationsreportcard.gov/    "
   ]
  },
  {
   "cell_type": "markdown",
   "metadata": {},
   "source": [
    "# Comparing Private Schools and Public Schools Using Hierarchical Linear Modeling\n",
    "in paragraphs explains and gives scores differences \n",
    "has a link at end of article to a pdf with comparisons private and public, by ethnicity. \n",
    "4. https://nces.ed.gov/nationsreportcard/pubs/studies/2006461.aspx"
   ]
  },
  {
   "cell_type": "markdown",
   "metadata": {},
   "source": [
    "# Racial/Ethnic Enrollment in Public Schools\n",
    "gives good comparitive figures on enrollment as .svg\n",
    "explains in the paragraphs the figures\n",
    "5.https://nces.ed.gov/programs/coe/indicator_cge.asp"
   ]
  },
  {
   "cell_type": "markdown",
   "metadata": {},
   "source": [
    "# Enrollment in public elementary and secondary schools, by level, grade, and race/ethnicity: Selected years, fall 1999 through fall 2017\n",
    "HTML table, link to download in excel\n",
    "table is by year starting at 1999, by grade, prek to 12th, seperated by 5 race/ethnicities\n",
    "6. https://nces.ed.gov/programs/digest/d19/tables/dt19_203.65.asp"
   ]
  }
 ],
 "metadata": {
  "kernelspec": {
   "display_name": "Python 3",
   "language": "python",
   "name": "python3"
  },
  "language_info": {
   "codemirror_mode": {
    "name": "ipython",
    "version": 3
   },
   "file_extension": ".py",
   "mimetype": "text/x-python",
   "name": "python",
   "nbconvert_exporter": "python",
   "pygments_lexer": "ipython3",
   "version": "3.7.6"
  }
 },
 "nbformat": 4,
 "nbformat_minor": 4
}
